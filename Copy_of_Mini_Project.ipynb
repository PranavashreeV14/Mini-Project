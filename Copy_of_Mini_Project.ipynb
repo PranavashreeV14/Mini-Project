{
  "nbformat": 4,
  "nbformat_minor": 0,
  "metadata": {
    "colab": {
      "provenance": [],
      "toc_visible": true,
      "authorship_tag": "ABX9TyObsT515VZQdLDKI/YBBtnp"
    },
    "kernelspec": {
      "name": "python3",
      "display_name": "Python 3"
    },
    "language_info": {
      "name": "python"
    }
  },
  "cells": [
    {
      "cell_type": "code",
      "source": [
        "MENU_PROMPT = \"\\nEnter 'a' to add a movie, 'l' to see your movies, 'f' to find a movie by title, or 'q' to quit: \"\n",
        "movies = [] #movies dictionary\n",
        "\n",
        "#add movie function\n",
        "def add_movie():\n",
        "    title = input(\"Enter the movie title: \")\n",
        "    director = input(\"Enter the movie director: \")\n",
        "    year = input(\"Enter the movie release year: \")\n",
        "\n",
        "    movies.append({             \n",
        "            'title': title,\n",
        "            'director': director,\n",
        "            'year': year\n",
        "    })\n",
        "\n",
        "def show_movies():\n",
        "    for movie in movies:\n",
        "        print_movie(movie)\n",
        "\n",
        "def print_movie(movie):\n",
        "    print(f\"\\nTitle: {movie['title']}\")\n",
        "    print(f\"Director: {movie['director']}\")\n",
        "    print(f\"Released Year: {movie['year']}\")\n",
        "\n",
        "\n",
        "def find_movies():\n",
        "    search_title = input(\"Enter the movie title you are looking for: \")\n",
        "\n",
        "    for movie in movies:\n",
        "        if movie[\"title\"] == search_title:\n",
        "            print_movie(movie)\n",
        "\n",
        "#menu function\n",
        "def menu():\n",
        "    selection = input(MENU_PROMPT)\n",
        "    while selection != 'q':\n",
        "        if selection == \"a\":\n",
        "            add_movie()\n",
        "        elif selection == \"l\":\n",
        "            show_movies()\n",
        "        elif selection == \"f\":\n",
        "            find_movies()\n",
        "        elif selection == \"q\":\n",
        "            break\n",
        "        else:\n",
        "            print('Unknown command. Please try again.')\n",
        "\n",
        "        selection = input(MENU_PROMPT)\n",
        "\n",
        "\n",
        "menu()"
      ],
      "metadata": {
        "colab": {
          "base_uri": "https://localhost:8080/"
        },
        "id": "YWZqQccFEAP6",
        "outputId": "d3a354c4-b844-416e-a7ed-7c76ed52cc7f"
      },
      "execution_count": null,
      "outputs": [
        {
          "name": "stdout",
          "output_type": "stream",
          "text": [
            "\n",
            "Enter 'a' to add a movie, 'l' to see your movies, 'f' to find a movie by title, or 'q' to quit: a\n",
            "Enter the movie title: Kantara\n",
            "Enter the movie director: Rishab Shetty\n",
            "Enter the movie release year: 2022\n",
            "\n",
            "Enter 'a' to add a movie, 'l' to see your movies, 'f' to find a movie by title, or 'q' to quit: a\n",
            "Enter the movie title: 3 Idiots\n",
            "Enter the movie director: Rajkumar Hirani\n",
            "Enter the movie release year: 2009\n",
            "\n",
            "Enter 'a' to add a movie, 'l' to see your movies, 'f' to find a movie by title, or 'q' to quit: a\n",
            "Enter the movie title: Charlie\n",
            "Enter the movie director: Rakshit Shetty\n",
            "Enter the movie release year: 2022\n",
            "\n",
            "Enter 'a' to add a movie, 'l' to see your movies, 'f' to find a movie by title, or 'q' to quit: l\n",
            "\n",
            "Title: Kantara\n",
            "Director: Rishab Shetty\n",
            "Released Year: 2022\n",
            "\n",
            "Title: 3 Idiots\n",
            "Director: Rajkumar Hirani\n",
            "Released Year: 2009\n",
            "\n",
            "Title: Charlie\n",
            "Director: Rakshit Shetty\n",
            "Released Year: 2022\n",
            "\n",
            "Enter 'a' to add a movie, 'l' to see your movies, 'f' to find a movie by title, or 'q' to quit: f\n",
            "Enter the movie title you are looking for: kantara\n",
            "\n",
            "Enter 'a' to add a movie, 'l' to see your movies, 'f' to find a movie by title, or 'q' to quit: f\n",
            "Enter the movie title you are looking for: dangal\n",
            "\n",
            "Enter 'a' to add a movie, 'l' to see your movies, 'f' to find a movie by title, or 'q' to quit: Kantara\n",
            "Unknown command. Please try again.\n",
            "\n",
            "Enter 'a' to add a movie, 'l' to see your movies, 'f' to find a movie by title, or 'q' to quit: f\n",
            "Enter the movie title you are looking for: Kantara\n",
            "\n",
            "Title: Kantara\n",
            "Director: Rishab Shetty\n",
            "Released Year: 2022\n",
            "\n",
            "Enter 'a' to add a movie, 'l' to see your movies, 'f' to find a movie by title, or 'q' to quit: q\n"
          ]
        }
      ]
    }
  ]
}